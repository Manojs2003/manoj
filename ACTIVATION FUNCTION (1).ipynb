{
 "cells": [
  {
   "cell_type": "markdown",
   "id": "ada2464f",
   "metadata": {},
   "source": [
    "# BINARY STEP FUNCTION"
   ]
  },
  {
   "cell_type": "code",
   "execution_count": 44,
   "id": "fc47f139",
   "metadata": {},
   "outputs": [],
   "source": [
    " def binary_step(x):\n",
    "    if x<0:\n",
    "        return 0\n",
    "    else :\n",
    "        return 1"
   ]
  },
  {
   "cell_type": "code",
   "execution_count": 45,
   "id": "6ad142b3",
   "metadata": {},
   "outputs": [
    {
     "data": {
      "text/plain": [
       "1"
      ]
     },
     "execution_count": 45,
     "metadata": {},
     "output_type": "execute_result"
    }
   ],
   "source": [
    "binary_step(12)"
   ]
  },
  {
   "cell_type": "code",
   "execution_count": 46,
   "id": "0186f850",
   "metadata": {},
   "outputs": [
    {
     "data": {
      "text/plain": [
       "0"
      ]
     },
     "execution_count": 46,
     "metadata": {},
     "output_type": "execute_result"
    }
   ],
   "source": [
    "binary_step(-6)"
   ]
  },
  {
   "cell_type": "markdown",
   "id": "a2229de5",
   "metadata": {},
   "source": [
    "# LINEAR FUNCTION"
   ]
  },
  {
   "cell_type": "code",
   "execution_count": 6,
   "id": "fde4c0dc",
   "metadata": {},
   "outputs": [],
   "source": [
    "def linear_function(x):\n",
    "    return 3*x"
   ]
  },
  {
   "cell_type": "code",
   "execution_count": 7,
   "id": "d7b53ebb",
   "metadata": {},
   "outputs": [
    {
     "data": {
      "text/plain": [
       "30"
      ]
     },
     "execution_count": 7,
     "metadata": {},
     "output_type": "execute_result"
    }
   ],
   "source": [
    "linear_function(10)"
   ]
  },
  {
   "cell_type": "code",
   "execution_count": 8,
   "id": "a8557993",
   "metadata": {},
   "outputs": [
    {
     "data": {
      "text/plain": [
       "-27"
      ]
     },
     "execution_count": 8,
     "metadata": {},
     "output_type": "execute_result"
    }
   ],
   "source": [
    "linear_function(-9)"
   ]
  },
  {
   "cell_type": "markdown",
   "id": "059ad017",
   "metadata": {},
   "source": [
    "# SIGMOID FUNCTION"
   ]
  },
  {
   "cell_type": "code",
   "execution_count": 10,
   "id": "64633f04",
   "metadata": {},
   "outputs": [],
   "source": [
    "import numpy as np\n",
    "def sigmoid_function(x):\n",
    "    z=(1/(1+np.exp(-x)))\n",
    "    return z"
   ]
  },
  {
   "cell_type": "code",
   "execution_count": 11,
   "id": "0e8ddec4",
   "metadata": {},
   "outputs": [
    {
     "data": {
      "text/plain": [
       "0.8807970779778823"
      ]
     },
     "execution_count": 11,
     "metadata": {},
     "output_type": "execute_result"
    }
   ],
   "source": [
    "sigmoid_function(2)"
   ]
  },
  {
   "cell_type": "code",
   "execution_count": 12,
   "id": "962732e9",
   "metadata": {},
   "outputs": [
    {
     "data": {
      "text/plain": [
       "0.0066928509242848554"
      ]
     },
     "execution_count": 12,
     "metadata": {},
     "output_type": "execute_result"
    }
   ],
   "source": [
    "sigmoid_function(-5)"
   ]
  },
  {
   "cell_type": "markdown",
   "id": "10867d22",
   "metadata": {},
   "source": [
    "# tANH"
   ]
  },
  {
   "cell_type": "code",
   "execution_count": 16,
   "id": "c363677a",
   "metadata": {},
   "outputs": [],
   "source": [
    "def tanh_function(x):\n",
    "    z=(2/(1+np.exp(-2*x)))-1\n",
    "    return z"
   ]
  },
  {
   "cell_type": "code",
   "execution_count": 17,
   "id": "34449249",
   "metadata": {},
   "outputs": [
    {
     "data": {
      "text/plain": [
       "1.0"
      ]
     },
     "execution_count": 17,
     "metadata": {},
     "output_type": "execute_result"
    }
   ],
   "source": [
    "tanh_function(22.7)"
   ]
  },
  {
   "cell_type": "code",
   "execution_count": 18,
   "id": "971c5be3",
   "metadata": {},
   "outputs": [
    {
     "data": {
      "text/plain": [
       "-0.9999983369439447"
      ]
     },
     "execution_count": 18,
     "metadata": {},
     "output_type": "execute_result"
    }
   ],
   "source": [
    "tanh_function(-7)"
   ]
  },
  {
   "cell_type": "markdown",
   "id": "df50019e",
   "metadata": {},
   "source": [
    "# ReLu"
   ]
  },
  {
   "cell_type": "code",
   "execution_count": 23,
   "id": "a57d9c26",
   "metadata": {},
   "outputs": [],
   "source": [
    "def relu_function(x):\n",
    "    if x<0:\n",
    "        return 0\n",
    "    else:\n",
    "        return x"
   ]
  },
  {
   "cell_type": "code",
   "execution_count": 24,
   "id": "a1934ab3",
   "metadata": {},
   "outputs": [
    {
     "data": {
      "text/plain": [
       "13"
      ]
     },
     "execution_count": 24,
     "metadata": {},
     "output_type": "execute_result"
    }
   ],
   "source": [
    "relu_function(13)"
   ]
  },
  {
   "cell_type": "code",
   "execution_count": 25,
   "id": "160f075b",
   "metadata": {},
   "outputs": [
    {
     "data": {
      "text/plain": [
       "15"
      ]
     },
     "execution_count": 25,
     "metadata": {},
     "output_type": "execute_result"
    }
   ],
   "source": [
    "relu_function(15)"
   ]
  },
  {
   "cell_type": "markdown",
   "id": "53b23d8d",
   "metadata": {},
   "source": [
    "# leaky function"
   ]
  },
  {
   "cell_type": "code",
   "execution_count": 26,
   "id": "0a1dbf52",
   "metadata": {},
   "outputs": [],
   "source": [
    "def leaky_function(x):\n",
    "    if x<0:\n",
    "        return 0.01*x\n",
    "    else:\n",
    "        return x"
   ]
  },
  {
   "cell_type": "code",
   "execution_count": 27,
   "id": "8e212036",
   "metadata": {},
   "outputs": [
    {
     "data": {
      "text/plain": [
       "10"
      ]
     },
     "execution_count": 27,
     "metadata": {},
     "output_type": "execute_result"
    }
   ],
   "source": [
    "leaky_function(10)"
   ]
  },
  {
   "cell_type": "code",
   "execution_count": 28,
   "id": "c34c7630",
   "metadata": {},
   "outputs": [
    {
     "data": {
      "text/plain": [
       "20"
      ]
     },
     "execution_count": 28,
     "metadata": {},
     "output_type": "execute_result"
    }
   ],
   "source": [
    "leaky_function(20)"
   ]
  },
  {
   "cell_type": "markdown",
   "id": "1baf4a51",
   "metadata": {},
   "source": [
    "# ELU"
   ]
  },
  {
   "cell_type": "code",
   "execution_count": 30,
   "id": "7950bd0a",
   "metadata": {},
   "outputs": [],
   "source": [
    "def elu_function(x,a):\n",
    "    if x<0:\n",
    "        return a*(np.exp(x)-1)\n",
    "    else:\n",
    "        return x"
   ]
  },
  {
   "cell_type": "code",
   "execution_count": 31,
   "id": "4acc12ad",
   "metadata": {},
   "outputs": [
    {
     "data": {
      "text/plain": [
       "-0.09932620530009145"
      ]
     },
     "execution_count": 31,
     "metadata": {},
     "output_type": "execute_result"
    }
   ],
   "source": [
    "elu_function(-5,0.1)"
   ]
  },
  {
   "cell_type": "code",
   "execution_count": 32,
   "id": "ca2fbe86",
   "metadata": {},
   "outputs": [
    {
     "data": {
      "text/plain": [
       "-0.09816843611112658"
      ]
     },
     "execution_count": 32,
     "metadata": {},
     "output_type": "execute_result"
    }
   ],
   "source": [
    "elu_function(-4,0.10)"
   ]
  },
  {
   "cell_type": "markdown",
   "id": "71baf749",
   "metadata": {},
   "source": [
    "# SWISH FUNCTION "
   ]
  },
  {
   "cell_type": "code",
   "execution_count": 35,
   "id": "328418a1",
   "metadata": {},
   "outputs": [],
   "source": [
    "def swish_function(x):\n",
    "    return x/(1-np.exp(-x))"
   ]
  },
  {
   "cell_type": "code",
   "execution_count": 36,
   "id": "1bc3174a",
   "metadata": {},
   "outputs": [
    {
     "data": {
      "text/plain": [
       "1.0025115553818576e-23"
      ]
     },
     "execution_count": 36,
     "metadata": {},
     "output_type": "execute_result"
    }
   ],
   "source": [
    "swish_function(-57)"
   ]
  },
  {
   "cell_type": "code",
   "execution_count": 37,
   "id": "e75eb010",
   "metadata": {},
   "outputs": [
    {
     "data": {
      "text/plain": [
       "1.0272259771910786e-66"
      ]
     },
     "execution_count": 37,
     "metadata": {},
     "output_type": "execute_result"
    }
   ],
   "source": [
    "swish_function(-157)"
   ]
  },
  {
   "cell_type": "code",
   "execution_count": 38,
   "id": "605009fa",
   "metadata": {},
   "outputs": [
    {
     "data": {
      "text/plain": [
       "7.006388999772552"
      ]
     },
     "execution_count": 38,
     "metadata": {},
     "output_type": "execute_result"
    }
   ],
   "source": [
    "swish_function(7)"
   ]
  },
  {
   "cell_type": "markdown",
   "id": "f2ba0967",
   "metadata": {},
   "source": [
    "# softmax "
   ]
  },
  {
   "cell_type": "code",
   "execution_count": 40,
   "id": "55337519",
   "metadata": {},
   "outputs": [],
   "source": [
    "def softmax_function(x):\n",
    "    z=np.exp(x)\n",
    "    z=z/z.sum()\n",
    "    return z"
   ]
  },
  {
   "cell_type": "code",
   "execution_count": 42,
   "id": "398a8727",
   "metadata": {},
   "outputs": [
    {
     "data": {
      "text/plain": [
       "array([0.65900114, 0.24243297, 0.09856589])"
      ]
     },
     "execution_count": 42,
     "metadata": {},
     "output_type": "execute_result"
    }
   ],
   "source": [
    "softmax_function([2.0,1.0,0.1])"
   ]
  },
  {
   "cell_type": "code",
   "execution_count": 43,
   "id": "e9a8a531",
   "metadata": {},
   "outputs": [
    {
     "data": {
      "text/plain": [
       "array([0.1998335, 0.1998335, 0.600333 ])"
      ]
     },
     "execution_count": 43,
     "metadata": {},
     "output_type": "execute_result"
    }
   ],
   "source": [
    "softmax_function([1.0,1.0,2.1])"
   ]
  },
  {
   "cell_type": "code",
   "execution_count": null,
   "id": "d1831036",
   "metadata": {},
   "outputs": [],
   "source": []
  }
 ],
 "metadata": {
  "kernelspec": {
   "display_name": "Python 3 (ipykernel)",
   "language": "python",
   "name": "python3"
  },
  "language_info": {
   "codemirror_mode": {
    "name": "ipython",
    "version": 3
   },
   "file_extension": ".py",
   "mimetype": "text/x-python",
   "name": "python",
   "nbconvert_exporter": "python",
   "pygments_lexer": "ipython3",
   "version": "3.10.9"
  }
 },
 "nbformat": 4,
 "nbformat_minor": 5
}
